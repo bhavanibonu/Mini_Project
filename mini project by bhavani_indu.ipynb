{
 "cells": [
  {
   "cell_type": "code",
   "execution_count": 8,
   "id": "69ef51a7",
   "metadata": {},
   "outputs": [
    {
     "name": "stdout",
     "output_type": "stream",
     "text": [
      "  Gender     Height      Weight\n",
      "0   Male  73.847017  241.893563\n",
      "1   Male  68.781904  162.310473\n",
      "2   Male  74.110105  212.740856\n",
      "3   Male  71.730978  220.042470\n",
      "4   Male  69.881796  206.349801\n",
      "      Gender     Height      Weight\n",
      "9995  Female  66.172652  136.777454\n",
      "9996  Female  67.067155  170.867906\n",
      "9997  Female  63.867992  128.475319\n",
      "9998  Female  69.034243  163.852461\n",
      "9999  Female  61.944246  113.649103\n",
      "(10000, 3)\n",
      "<class 'pandas.core.frame.DataFrame'>\n",
      "RangeIndex: 10000 entries, 0 to 9999\n",
      "Data columns (total 3 columns):\n",
      " #   Column  Non-Null Count  Dtype  \n",
      "---  ------  --------------  -----  \n",
      " 0   Gender  10000 non-null  object \n",
      " 1   Height  10000 non-null  float64\n",
      " 2   Weight  10000 non-null  float64\n",
      "dtypes: float64(2), object(1)\n",
      "memory usage: 234.5+ KB\n",
      "None\n",
      "RangeIndex(start=0, stop=10000, step=1)\n",
      "Index(['Gender', 'Height', 'Weight'], dtype='object')\n",
      "             Height        Weight\n",
      "count  10000.000000  10000.000000\n",
      "mean      66.367560    161.440357\n",
      "std        3.847528     32.108439\n",
      "min       54.263133     64.700127\n",
      "25%       63.505620    135.818051\n",
      "50%       66.318070    161.212928\n",
      "75%       69.174262    187.169525\n",
      "max       78.998742    269.989699\n",
      "Index(['Gender', 'Height', 'Weight'], dtype='object')\n",
      "Gender    0\n",
      "Height    0\n",
      "Weight    0\n",
      "dtype: int64\n",
      "66.36755975482106\n",
      "161.44035683283076\n",
      "78.9987423463896\n",
      "269.989698505106\n",
      "54.2631333250971\n",
      "64.700126712753\n"
     ]
    }
   ],
   "source": [
    "import pandas as pd\n",
    "import matplotlib.pyplot as plt\n",
    "bbb=pd.read_csv(\"C:/Users/bhava/OneDrive/Pictures/Desktop/GPTC/5th SEM/EXCEL/weight-height.csv\")\n",
    "print(bbb.head(5))\n",
    "print(bbb.tail(5))\n",
    "print(bbb.shape)\n",
    "print(bbb.info())\n",
    "print(bbb.index)\n",
    "print(bbb.columns)\n",
    "print(bbb.describe())\n",
    "print(bbb.keys())\n",
    "print(bbb.isnull().sum())\n",
    "sib_bbb=bbb['Height'].mean()\n",
    "print(sib_bbb)\n",
    "sib_bbi=bbb['Weight'].mean()\n",
    "print(sib_bbi)\n",
    "max_bbb=bbb['Height'].max()\n",
    "print(max_bbb)\n",
    "max_bbi=bbb['Weight'].max()\n",
    "print(max_bbi)\n",
    "min_bbb=bbb['Height'].min()\n",
    "print(min_bbb)\n",
    "min_bbi=bbb['Weight'].min()\n",
    "print(min_bbi)"
   ]
  },
  {
   "cell_type": "code",
   "execution_count": null,
   "id": "eb284dea",
   "metadata": {},
   "outputs": [],
   "source": []
  },
  {
   "cell_type": "code",
   "execution_count": null,
   "id": "34b9dd10",
   "metadata": {},
   "outputs": [],
   "source": []
  }
 ],
 "metadata": {
  "kernelspec": {
   "display_name": "Python 3 (ipykernel)",
   "language": "python",
   "name": "python3"
  },
  "language_info": {
   "codemirror_mode": {
    "name": "ipython",
    "version": 3
   },
   "file_extension": ".py",
   "mimetype": "text/x-python",
   "name": "python",
   "nbconvert_exporter": "python",
   "pygments_lexer": "ipython3",
   "version": "3.9.13"
  }
 },
 "nbformat": 4,
 "nbformat_minor": 5
}
